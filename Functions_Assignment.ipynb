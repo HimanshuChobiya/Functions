{
  "nbformat": 4,
  "nbformat_minor": 0,
  "metadata": {
    "colab": {
      "provenance": []
    },
    "kernelspec": {
      "name": "python3",
      "display_name": "Python 3"
    },
    "language_info": {
      "name": "python"
    }
  },
  "cells": [
    {
      "cell_type": "markdown",
      "source": [
        "#Functions Assignment\n",
        "\n"
      ],
      "metadata": {
        "id": "dAqTSEzzSGj_"
      }
    },
    {
      "cell_type": "markdown",
      "source": [
        "## Theory Questions"
      ],
      "metadata": {
        "id": "hd5zo_0GSLyS"
      }
    },
    {
      "cell_type": "markdown",
      "source": [
        "###Q.1. What is the difference between a function and a method in Python?\n",
        "\n",
        "--> ​In Python, functions and methods are both blocks of reusable code designed to perform specific tasks, but they differ in their associations and usage:​\n",
        "Reddit\n",
        "\n",
        "1.Function:\n",
        "\n",
        "A function is an independent block of code that performs a specific operation and can be called by its name. Functions can accept arguments and return values. They are defined using the def keyword outside of any class.\n",
        "\n",
        "2.Method:\n",
        "\n",
        "A method is similar to a function but is associated with an object; it is defined within a class and is called on instances of that class. Methods have access to the data contained within the class and can modify the object's state. They are defined like functions but include self as their first parameter to refer to the instance of the class."
      ],
      "metadata": {
        "id": "RBcZsYULSQh7"
      }
    },
    {
      "cell_type": "markdown",
      "source": [
        "###Q.2. Explain the concept of function arguments and parameters in Python.\n",
        "\n",
        "--> In Python, function parameters are placeholders for values that will be passed into a function, while arguments are the actual values passed to the function when it's called.\n",
        "\n",
        "1.Parameters:\n",
        "\n",
        "Parameters are variables defined within the parentheses of a function definition, acting as placeholders for the data the function will work with.\n",
        "\n",
        "Example:\n",
        "In the function def greet(name, greeting):, name and greeting are parameters.\n",
        "\n",
        "2.Arguments:\n",
        "\n",
        "Arguments are the values that are passed to a function when it's called, and they are used to replace the parameters in the function definition.\n",
        "\n",
        "Example:\n",
        "If you call greet(\"Alice\", \"Hello\"), then \"Alice\" and \"Hello\" are the arguments.\n",
        "\n",
        "3.Relationship:\n",
        "\n",
        "When a function is called, the arguments are assigned to the corresponding parameters within the function's scope.\n",
        "\n",
        "The function then uses these parameter values to execute its code."
      ],
      "metadata": {
        "id": "1eVvuGvBTJeh"
      }
    },
    {
      "cell_type": "markdown",
      "source": [
        "###Q.3. What are the different ways to define and call a function in Python?\n",
        "\n",
        "-->\n",
        "###Defining Functions:\n",
        "\n",
        "1.Standard Function Definition\n",
        "\n",
        "2.Lambda Functions (Anonymous Functions)\n",
        "\n",
        "3.Nested Functions\n",
        "\n",
        "4.Higher-Order Functions\n",
        "\n",
        "###Calling functions:\n",
        "\n",
        "1.Direct Call\n",
        "\n",
        "2.Using the eval() Function\n",
        "\n",
        "3.Using the getattr() Function\n",
        "\n",
        "4.Using Function References\n",
        "\n",
        "5.Using the partial() Function from functools\n"
      ],
      "metadata": {
        "id": "AcUp0W27T72R"
      }
    },
    {
      "cell_type": "markdown",
      "source": [
        "###Q.4. What is the purpose of the `return` statement in a Python function?\n",
        "\n",
        "--> The return statement in a Python function signals the end of its execution and sends a value (or None if no value is specified) back to the caller, allowing the function's output to be used elsewhere in the program."
      ],
      "metadata": {
        "id": "_drCUd2ZU7WG"
      }
    },
    {
      "cell_type": "markdown",
      "source": [
        "###Q.5.  What are iterators in Python and how do they differ from iterables?\n",
        "\n",
        "--> An Iterable is basically an object that any user can iterate over. An Iterator is also an object that helps a user in iterating over another object (that is iterable). We can generate an iterator when we pass the object to the iter() method."
      ],
      "metadata": {
        "id": "XACrjHGGVJsg"
      }
    },
    {
      "cell_type": "markdown",
      "source": [
        "###Q.6. Explain the concept of generators in Python and how they are defined.\n",
        "\n",
        "-->  A Python generator function allows you to declare a function that behaves like an iterator, providing a faster and easier way to create iterators. They can be used on an abstract container of data to turn it into an iterable object like lists, dictionaries and strings.\n",
        "\n",
        "Generator functions are written using the function* syntax. When called, generator functions do not initially execute their code. Instead, they return a special type of iterator, called a Generator."
      ],
      "metadata": {
        "id": "3Ng8NxzHVTNm"
      }
    },
    {
      "cell_type": "markdown",
      "source": [
        "###Q.7.What are the advantages of using generators over regular functions?\n",
        "\n",
        "-->\n",
        "1.Memory efficiency:\n",
        "\n",
        "Generator functions only evaluate the code that is needed, which can make them more memory efficient than regular functions.\n",
        "\n",
        "2.Lazy loading:\n",
        "\n",
        "Generator functions can be used to lazy load data, which means that the data is not loaded until it is actually needed.\n",
        "\n",
        "3.Simplified Code:\n",
        "\n",
        "Using generators can lead to cleaner and more readable code. They allow developers to express iterations in a straightforward manner without the need to manage the state or use complex loops. ​\n",
        "\n",
        "4.Ability to Represent Infinite Streams:\n",
        "\n",
        "Generators can model infinite sequences, yielding values indefinitely. This is useful when the total number of items isn't known in advance or is theoretically infinite."
      ],
      "metadata": {
        "id": "iRLQha7pa3Em"
      }
    },
    {
      "cell_type": "markdown",
      "source": [
        "###Q.8.What is a lambda function in Python and when is it typically used?\n",
        "\n",
        "--> In Python, a lambda function is a small, anonymous function defined using the lambda keyword, typically used for short, simple operations where a full function definition is unnecessary. They are commonly used with higher-order functions like map, filter, and sorted.\n",
        "\n",
        "Typically lambdas are used to encapsulate a few lines of code that are passed to algorithms or asynchronous functions. This article defines what lambdas are, and compares them to other programming techniques."
      ],
      "metadata": {
        "id": "j-RVk3uscEu0"
      }
    },
    {
      "cell_type": "markdown",
      "source": [
        "###Q.9. Explain the purpose and usage of the `map()` function in Python.\n",
        "\n",
        "-->The map() function in Python applies a given function to each item in an iterable (like a list or tuple) and returns an iterator that yields the results.\n",
        "\n",
        "###Purpose:\n",
        "\n",
        "1.Transformation:\n",
        "\n",
        "map() is used to transform the elements of an iterable by applying a function to each element.\n",
        "\n",
        "2.Functional Programming:\n",
        "\n",
        "It promotes a functional programming style by allowing you to apply a function to multiple items without explicit loops.\n",
        "\n",
        "3.Conciseness:\n",
        "\n",
        "It provides a concise way to perform transformations on iterables, making your code cleaner and easier to read.\n",
        "\n",
        "###Usage:\n",
        "\n",
        "1.Function as the First Argument:\n",
        "\n",
        "The first argument to map() is a function that takes one or more arguments (depending on the number of iterables you pass).\n",
        "\n",
        "2.Iterable as the Second Argument:\n",
        "\n",
        "The second argument (and subsequent arguments) is an iterable (e.g., a list, tuple, string, etc.) that you want to apply the function to.\n",
        "\n",
        "3.Return Value:\n",
        "\n",
        "map() returns a map object, which is an iterator. To see the results, you need to convert this map object to a list or another iterable using list(), tuple(), etc.\n"
      ],
      "metadata": {
        "id": "herhtnjZcfNC"
      }
    },
    {
      "cell_type": "markdown",
      "source": [
        "###Q.10. What is the difference between `map()`, `reduce()`, and `filter()` functions in Python?\n",
        "\n",
        "-->\n",
        "map():\n",
        "\n",
        "Purpose: Applies a specified function to each item in an iterable (e.g., list, tuple) and returns an iterator with the results.\n",
        "\n",
        "Behavior: Transforms each element individually based on the provided function.\n",
        "\n",
        "filter():\n",
        "\n",
        "Purpose: Filters items out of an iterable based on a function that returns True or False. Only elements that evaluate to True are included in the result.\n",
        "\n",
        "Behavior: Selects elements that meet a specific condition defined by the function.\n",
        "\n",
        "reduce():\n",
        "\n",
        "Purpose: Applies a function cumulatively to the items of an iterable, reducing the iterable to a single accumulated result.\n",
        "\n",
        "Behavior: Combines elements in a sequence using the specified function to produce a single value.\n"
      ],
      "metadata": {
        "id": "Qgzv9DX2dJac"
      }
    },
    {
      "cell_type": "markdown",
      "source": [],
      "metadata": {
        "id": "hlJNd8bwcBxT"
      }
    },
    {
      "cell_type": "markdown",
      "source": [
        "###Q.11.write the internal mechanism for sum operation using  reduce function on this given\n",
        "list:[47,11,42,13]\n"
      ],
      "metadata": {
        "id": "Xipr6VdOd1Ic"
      }
    },
    {
      "cell_type": "code",
      "execution_count": null,
      "metadata": {
        "colab": {
          "base_uri": "https://localhost:8080/",
          "height": 73
        },
        "id": "xWbKwBqoSClM",
        "outputId": "02f209fb-2e30-4c21-e6c3-153b15b4cebf"
      },
      "outputs": [
        {
          "output_type": "display_data",
          "data": {
            "text/plain": [
              "<IPython.core.display.HTML object>"
            ],
            "text/html": [
              "\n",
              "     <input type=\"file\" id=\"files-06a8f64d-9e89-449e-8710-d0da5e458416\" name=\"files[]\" multiple disabled\n",
              "        style=\"border:none\" />\n",
              "     <output id=\"result-06a8f64d-9e89-449e-8710-d0da5e458416\">\n",
              "      Upload widget is only available when the cell has been executed in the\n",
              "      current browser session. Please rerun this cell to enable.\n",
              "      </output>\n",
              "      <script>// Copyright 2017 Google LLC\n",
              "//\n",
              "// Licensed under the Apache License, Version 2.0 (the \"License\");\n",
              "// you may not use this file except in compliance with the License.\n",
              "// You may obtain a copy of the License at\n",
              "//\n",
              "//      http://www.apache.org/licenses/LICENSE-2.0\n",
              "//\n",
              "// Unless required by applicable law or agreed to in writing, software\n",
              "// distributed under the License is distributed on an \"AS IS\" BASIS,\n",
              "// WITHOUT WARRANTIES OR CONDITIONS OF ANY KIND, either express or implied.\n",
              "// See the License for the specific language governing permissions and\n",
              "// limitations under the License.\n",
              "\n",
              "/**\n",
              " * @fileoverview Helpers for google.colab Python module.\n",
              " */\n",
              "(function(scope) {\n",
              "function span(text, styleAttributes = {}) {\n",
              "  const element = document.createElement('span');\n",
              "  element.textContent = text;\n",
              "  for (const key of Object.keys(styleAttributes)) {\n",
              "    element.style[key] = styleAttributes[key];\n",
              "  }\n",
              "  return element;\n",
              "}\n",
              "\n",
              "// Max number of bytes which will be uploaded at a time.\n",
              "const MAX_PAYLOAD_SIZE = 100 * 1024;\n",
              "\n",
              "function _uploadFiles(inputId, outputId) {\n",
              "  const steps = uploadFilesStep(inputId, outputId);\n",
              "  const outputElement = document.getElementById(outputId);\n",
              "  // Cache steps on the outputElement to make it available for the next call\n",
              "  // to uploadFilesContinue from Python.\n",
              "  outputElement.steps = steps;\n",
              "\n",
              "  return _uploadFilesContinue(outputId);\n",
              "}\n",
              "\n",
              "// This is roughly an async generator (not supported in the browser yet),\n",
              "// where there are multiple asynchronous steps and the Python side is going\n",
              "// to poll for completion of each step.\n",
              "// This uses a Promise to block the python side on completion of each step,\n",
              "// then passes the result of the previous step as the input to the next step.\n",
              "function _uploadFilesContinue(outputId) {\n",
              "  const outputElement = document.getElementById(outputId);\n",
              "  const steps = outputElement.steps;\n",
              "\n",
              "  const next = steps.next(outputElement.lastPromiseValue);\n",
              "  return Promise.resolve(next.value.promise).then((value) => {\n",
              "    // Cache the last promise value to make it available to the next\n",
              "    // step of the generator.\n",
              "    outputElement.lastPromiseValue = value;\n",
              "    return next.value.response;\n",
              "  });\n",
              "}\n",
              "\n",
              "/**\n",
              " * Generator function which is called between each async step of the upload\n",
              " * process.\n",
              " * @param {string} inputId Element ID of the input file picker element.\n",
              " * @param {string} outputId Element ID of the output display.\n",
              " * @return {!Iterable<!Object>} Iterable of next steps.\n",
              " */\n",
              "function* uploadFilesStep(inputId, outputId) {\n",
              "  const inputElement = document.getElementById(inputId);\n",
              "  inputElement.disabled = false;\n",
              "\n",
              "  const outputElement = document.getElementById(outputId);\n",
              "  outputElement.innerHTML = '';\n",
              "\n",
              "  const pickedPromise = new Promise((resolve) => {\n",
              "    inputElement.addEventListener('change', (e) => {\n",
              "      resolve(e.target.files);\n",
              "    });\n",
              "  });\n",
              "\n",
              "  const cancel = document.createElement('button');\n",
              "  inputElement.parentElement.appendChild(cancel);\n",
              "  cancel.textContent = 'Cancel upload';\n",
              "  const cancelPromise = new Promise((resolve) => {\n",
              "    cancel.onclick = () => {\n",
              "      resolve(null);\n",
              "    };\n",
              "  });\n",
              "\n",
              "  // Wait for the user to pick the files.\n",
              "  const files = yield {\n",
              "    promise: Promise.race([pickedPromise, cancelPromise]),\n",
              "    response: {\n",
              "      action: 'starting',\n",
              "    }\n",
              "  };\n",
              "\n",
              "  cancel.remove();\n",
              "\n",
              "  // Disable the input element since further picks are not allowed.\n",
              "  inputElement.disabled = true;\n",
              "\n",
              "  if (!files) {\n",
              "    return {\n",
              "      response: {\n",
              "        action: 'complete',\n",
              "      }\n",
              "    };\n",
              "  }\n",
              "\n",
              "  for (const file of files) {\n",
              "    const li = document.createElement('li');\n",
              "    li.append(span(file.name, {fontWeight: 'bold'}));\n",
              "    li.append(span(\n",
              "        `(${file.type || 'n/a'}) - ${file.size} bytes, ` +\n",
              "        `last modified: ${\n",
              "            file.lastModifiedDate ? file.lastModifiedDate.toLocaleDateString() :\n",
              "                                    'n/a'} - `));\n",
              "    const percent = span('0% done');\n",
              "    li.appendChild(percent);\n",
              "\n",
              "    outputElement.appendChild(li);\n",
              "\n",
              "    const fileDataPromise = new Promise((resolve) => {\n",
              "      const reader = new FileReader();\n",
              "      reader.onload = (e) => {\n",
              "        resolve(e.target.result);\n",
              "      };\n",
              "      reader.readAsArrayBuffer(file);\n",
              "    });\n",
              "    // Wait for the data to be ready.\n",
              "    let fileData = yield {\n",
              "      promise: fileDataPromise,\n",
              "      response: {\n",
              "        action: 'continue',\n",
              "      }\n",
              "    };\n",
              "\n",
              "    // Use a chunked sending to avoid message size limits. See b/62115660.\n",
              "    let position = 0;\n",
              "    do {\n",
              "      const length = Math.min(fileData.byteLength - position, MAX_PAYLOAD_SIZE);\n",
              "      const chunk = new Uint8Array(fileData, position, length);\n",
              "      position += length;\n",
              "\n",
              "      const base64 = btoa(String.fromCharCode.apply(null, chunk));\n",
              "      yield {\n",
              "        response: {\n",
              "          action: 'append',\n",
              "          file: file.name,\n",
              "          data: base64,\n",
              "        },\n",
              "      };\n",
              "\n",
              "      let percentDone = fileData.byteLength === 0 ?\n",
              "          100 :\n",
              "          Math.round((position / fileData.byteLength) * 100);\n",
              "      percent.textContent = `${percentDone}% done`;\n",
              "\n",
              "    } while (position < fileData.byteLength);\n",
              "  }\n",
              "\n",
              "  // All done.\n",
              "  yield {\n",
              "    response: {\n",
              "      action: 'complete',\n",
              "    }\n",
              "  };\n",
              "}\n",
              "\n",
              "scope.google = scope.google || {};\n",
              "scope.google.colab = scope.google.colab || {};\n",
              "scope.google.colab._files = {\n",
              "  _uploadFiles,\n",
              "  _uploadFilesContinue,\n",
              "};\n",
              "})(self);\n",
              "</script> "
            ]
          },
          "metadata": {}
        },
        {
          "output_type": "stream",
          "name": "stdout",
          "text": [
            "Saving Q.11 Solution .jpg to Q.11 Solution  (1).jpg\n"
          ]
        }
      ],
      "source": [
        "from google.colab import files\n",
        "from IPython.display import Image\n",
        "uploaded = files.upload()\n"
      ]
    },
    {
      "cell_type": "code",
      "source": [
        "from functools import reduce\n",
        "numbers = [47, 11, 42, 13]\n",
        "\n",
        "result = reduce(lambda x, y: x + y, numbers)\n",
        "\n",
        "print(result)"
      ],
      "metadata": {
        "id": "IOLJaEOsvtU-",
        "outputId": "7ee0881d-9db2-4eeb-8c6b-ce834ccda67e",
        "colab": {
          "base_uri": "https://localhost:8080/"
        }
      },
      "execution_count": null,
      "outputs": [
        {
          "output_type": "stream",
          "name": "stdout",
          "text": [
            "113\n"
          ]
        }
      ]
    },
    {
      "cell_type": "markdown",
      "source": [
        "###Practical Questions"
      ],
      "metadata": {
        "id": "-Dag-E_Jh26o"
      }
    },
    {
      "cell_type": "markdown",
      "source": [
        "###Q.1.Write a Python function that takes a list of numbers as input and returns the sum of all even numbers in the list."
      ],
      "metadata": {
        "id": "YeS1iCPfh8FV"
      }
    },
    {
      "cell_type": "code",
      "source": [
        "def sum_of_even_numbers(numbers):\n",
        "    sum_even = 0\n",
        "    for number in numbers:\n",
        "        if number % 2 == 0:\n",
        "            sum_even += number\n",
        "    return sum_even\n"
      ],
      "metadata": {
        "id": "QQkpT0wShkGD"
      },
      "execution_count": null,
      "outputs": []
    },
    {
      "cell_type": "markdown",
      "source": [
        "###Q.2.Create a Python function that accepts a string and returns the reverse of that string."
      ],
      "metadata": {
        "id": "dYEzl5TTi3ac"
      }
    },
    {
      "cell_type": "code",
      "source": [
        "def reverse_string(input_string):\n",
        "    return input_string[::-1]\n"
      ],
      "metadata": {
        "id": "CAptSxv9iXWA"
      },
      "execution_count": null,
      "outputs": []
    },
    {
      "cell_type": "markdown",
      "source": [
        "###Q.3.Implement a Python function that takes a list of integers and returns a new list containing the squares of each number."
      ],
      "metadata": {
        "id": "sV021lzSjCFW"
      }
    },
    {
      "cell_type": "code",
      "source": [
        "def square_numbers(numbers):\n",
        "    squared_list = []\n",
        "    for number in numbers:\n",
        "        squared_list.append(number**2)\n",
        "    return squared_list\n"
      ],
      "metadata": {
        "id": "1ejhJE91i_5J"
      },
      "execution_count": null,
      "outputs": []
    },
    {
      "cell_type": "markdown",
      "source": [
        "###Q.4.Write a Python function that checks if a given number is prime or not from 1 to 200."
      ],
      "metadata": {
        "id": "wQDdbl9yjMT_"
      }
    },
    {
      "cell_type": "code",
      "source": [
        "def is_prime(number):\n",
        "    if number <= 1:\n",
        "        return False\n",
        "    if number <= 3:\n",
        "        return True\n",
        "    if number % 2 == 0 or number % 3 == 0:\n",
        "        return False\n",
        "    i = 5\n",
        "    while i * i <= number:\n",
        "        if number % i == 0 or number % (i + 2) == 0:\n",
        "            return False\n",
        "        i += 6\n",
        "    return True\n"
      ],
      "metadata": {
        "id": "EHDSlqnKjWFf"
      },
      "execution_count": null,
      "outputs": []
    },
    {
      "cell_type": "markdown",
      "source": [
        "###Q.5.Create an iterator class in Python that generates the Fibonacci sequence up to a specified number of terms."
      ],
      "metadata": {
        "id": "rMTcb8W8kEb9"
      }
    },
    {
      "cell_type": "code",
      "source": [
        "class FibonacciIterator:\n",
        "    def __init__(self, n):\n",
        "        self.n = n\n",
        "        self.a, self.b = 0, 1\n",
        "        self.count = 0\n",
        "\n",
        "    def __iter__(self):\n",
        "        return self\n",
        "\n",
        "    def __next__(self):\n",
        "        if self.count < self.n:\n",
        "\n",
        "            fib_number = self.a\n",
        "            self.a, self.b = self.b, self.a + self.b\n",
        "            self.count += 1\n",
        "            return fib_number\n",
        "        else:\n",
        "            raise StopIteration\n",
        "fibonacci_sequence = FibonacciIterator(10)\n",
        "\n",
        "for number in fibonacci_sequence:\n",
        "    print(number)"
      ],
      "metadata": {
        "colab": {
          "base_uri": "https://localhost:8080/"
        },
        "id": "uSla2hoekPAb",
        "outputId": "1e36dcf0-a52d-4726-bb60-e3e1491e9dcf"
      },
      "execution_count": null,
      "outputs": [
        {
          "output_type": "stream",
          "name": "stdout",
          "text": [
            "0\n",
            "1\n",
            "1\n",
            "2\n",
            "3\n",
            "5\n",
            "8\n",
            "13\n",
            "21\n",
            "34\n"
          ]
        }
      ]
    },
    {
      "cell_type": "markdown",
      "source": [
        "###Q.6.Write a generator function in Python that yields the powers of 2 up to a given exponent."
      ],
      "metadata": {
        "id": "7YQBmJtnqgTV"
      }
    },
    {
      "cell_type": "code",
      "source": [
        "def powers_of_two(max_exponent):\n",
        "    for exponent in range(max_exponent + 1):\n",
        "        yield 2 ** exponent"
      ],
      "metadata": {
        "id": "0YEXUXCYqkYA"
      },
      "execution_count": null,
      "outputs": []
    },
    {
      "cell_type": "markdown",
      "source": [
        "###Q.7.Implement a generator function that reads a file line by line and yields each line as a string."
      ],
      "metadata": {
        "id": "iky3JxCFqwhw"
      }
    },
    {
      "cell_type": "code",
      "source": [
        "def read_file_line_by_line(file_path):\n",
        "    with open(file_path, 'r') as file:\n",
        "        for line in file:\n",
        "            yield line.strip()"
      ],
      "metadata": {
        "id": "Y9t7GwV8kqam"
      },
      "execution_count": null,
      "outputs": []
    },
    {
      "cell_type": "markdown",
      "source": [
        "###Q.8.Use a lambda function in Python to sort a list of tuples based on the second element of each tuple."
      ],
      "metadata": {
        "id": "LQImagR7rDNr"
      }
    },
    {
      "cell_type": "code",
      "source": [
        "data = [('apple', 3), ('banana', 1), ('cherry', 2)]\n",
        "\n",
        "sorted_data = sorted(data, key=lambda x: x[1])\n",
        "\n",
        "print(sorted_data)"
      ],
      "metadata": {
        "colab": {
          "base_uri": "https://localhost:8080/"
        },
        "id": "4utIN-HarCVC",
        "outputId": "35da575d-562e-4c11-e682-2ad979963de5"
      },
      "execution_count": null,
      "outputs": [
        {
          "output_type": "stream",
          "name": "stdout",
          "text": [
            "[('banana', 1), ('cherry', 2), ('apple', 3)]\n"
          ]
        }
      ]
    },
    {
      "cell_type": "markdown",
      "source": [
        "###Q.9.Write a Python program that uses `map()` to convert a list of temperatures from Celsius to Fahrenheit."
      ],
      "metadata": {
        "id": "0clNnUcxrYfB"
      }
    },
    {
      "cell_type": "code",
      "source": [
        "def celsius_to_fahrenheit(celsius):\n",
        "    return (celsius * 9/5) + 32\n",
        "\n",
        "celsius_temperatures = [0, 20, 37, 100, -40]\n",
        "\n",
        "fahrenheit_temperatures = list(map(celsius_to_fahrenheit, celsius_temperatures))\n",
        "\n",
        "print(\"Celsius temperatures:\", celsius_temperatures)\n",
        "print(\"Fahrenheit temperatures:\", fahrenheit_temperatures)"
      ],
      "metadata": {
        "colab": {
          "base_uri": "https://localhost:8080/"
        },
        "id": "IbGE-0swrXeU",
        "outputId": "85bfa6cf-6b71-456f-d4b4-cbb4f3309ab5"
      },
      "execution_count": null,
      "outputs": [
        {
          "output_type": "stream",
          "name": "stdout",
          "text": [
            "Celsius temperatures: [0, 20, 37, 100, -40]\n",
            "Fahrenheit temperatures: [32.0, 68.0, 98.6, 212.0, -40.0]\n"
          ]
        }
      ]
    },
    {
      "cell_type": "markdown",
      "source": [
        "###Q.10.Create a Python program that uses `filter()` to remove all the vowels from a given string."
      ],
      "metadata": {
        "id": "sd0yRxdxrk--"
      }
    },
    {
      "cell_type": "code",
      "source": [
        "def remove_vowels(input_string):\n",
        "    vowels = set('aeiouAEIOU')\n",
        "\n",
        "    filtered_characters = filter(lambda char: char not in vowels, input_string)\n",
        "\n",
        "    result_string = ''.join(filtered_characters)\n",
        "\n",
        "    return result_string"
      ],
      "metadata": {
        "id": "DEkoRluarjwl"
      },
      "execution_count": null,
      "outputs": []
    },
    {
      "cell_type": "markdown",
      "source": [],
      "metadata": {
        "id": "RywtQpewr2pY"
      }
    },
    {
      "cell_type": "code",
      "source": [
        "from google.colab import files\n",
        "from IPython.display import Image\n",
        "uploaded = files.upload()\n"
      ],
      "metadata": {
        "colab": {
          "base_uri": "https://localhost:8080/",
          "height": 73
        },
        "id": "AhBMOW0rtlGO",
        "outputId": "b02ac697-e080-40bd-e41d-ec083bd29b3f"
      },
      "execution_count": null,
      "outputs": [
        {
          "output_type": "display_data",
          "data": {
            "text/plain": [
              "<IPython.core.display.HTML object>"
            ],
            "text/html": [
              "\n",
              "     <input type=\"file\" id=\"files-7c522541-7d98-439d-972a-952756ee6ecb\" name=\"files[]\" multiple disabled\n",
              "        style=\"border:none\" />\n",
              "     <output id=\"result-7c522541-7d98-439d-972a-952756ee6ecb\">\n",
              "      Upload widget is only available when the cell has been executed in the\n",
              "      current browser session. Please rerun this cell to enable.\n",
              "      </output>\n",
              "      <script>// Copyright 2017 Google LLC\n",
              "//\n",
              "// Licensed under the Apache License, Version 2.0 (the \"License\");\n",
              "// you may not use this file except in compliance with the License.\n",
              "// You may obtain a copy of the License at\n",
              "//\n",
              "//      http://www.apache.org/licenses/LICENSE-2.0\n",
              "//\n",
              "// Unless required by applicable law or agreed to in writing, software\n",
              "// distributed under the License is distributed on an \"AS IS\" BASIS,\n",
              "// WITHOUT WARRANTIES OR CONDITIONS OF ANY KIND, either express or implied.\n",
              "// See the License for the specific language governing permissions and\n",
              "// limitations under the License.\n",
              "\n",
              "/**\n",
              " * @fileoverview Helpers for google.colab Python module.\n",
              " */\n",
              "(function(scope) {\n",
              "function span(text, styleAttributes = {}) {\n",
              "  const element = document.createElement('span');\n",
              "  element.textContent = text;\n",
              "  for (const key of Object.keys(styleAttributes)) {\n",
              "    element.style[key] = styleAttributes[key];\n",
              "  }\n",
              "  return element;\n",
              "}\n",
              "\n",
              "// Max number of bytes which will be uploaded at a time.\n",
              "const MAX_PAYLOAD_SIZE = 100 * 1024;\n",
              "\n",
              "function _uploadFiles(inputId, outputId) {\n",
              "  const steps = uploadFilesStep(inputId, outputId);\n",
              "  const outputElement = document.getElementById(outputId);\n",
              "  // Cache steps on the outputElement to make it available for the next call\n",
              "  // to uploadFilesContinue from Python.\n",
              "  outputElement.steps = steps;\n",
              "\n",
              "  return _uploadFilesContinue(outputId);\n",
              "}\n",
              "\n",
              "// This is roughly an async generator (not supported in the browser yet),\n",
              "// where there are multiple asynchronous steps and the Python side is going\n",
              "// to poll for completion of each step.\n",
              "// This uses a Promise to block the python side on completion of each step,\n",
              "// then passes the result of the previous step as the input to the next step.\n",
              "function _uploadFilesContinue(outputId) {\n",
              "  const outputElement = document.getElementById(outputId);\n",
              "  const steps = outputElement.steps;\n",
              "\n",
              "  const next = steps.next(outputElement.lastPromiseValue);\n",
              "  return Promise.resolve(next.value.promise).then((value) => {\n",
              "    // Cache the last promise value to make it available to the next\n",
              "    // step of the generator.\n",
              "    outputElement.lastPromiseValue = value;\n",
              "    return next.value.response;\n",
              "  });\n",
              "}\n",
              "\n",
              "/**\n",
              " * Generator function which is called between each async step of the upload\n",
              " * process.\n",
              " * @param {string} inputId Element ID of the input file picker element.\n",
              " * @param {string} outputId Element ID of the output display.\n",
              " * @return {!Iterable<!Object>} Iterable of next steps.\n",
              " */\n",
              "function* uploadFilesStep(inputId, outputId) {\n",
              "  const inputElement = document.getElementById(inputId);\n",
              "  inputElement.disabled = false;\n",
              "\n",
              "  const outputElement = document.getElementById(outputId);\n",
              "  outputElement.innerHTML = '';\n",
              "\n",
              "  const pickedPromise = new Promise((resolve) => {\n",
              "    inputElement.addEventListener('change', (e) => {\n",
              "      resolve(e.target.files);\n",
              "    });\n",
              "  });\n",
              "\n",
              "  const cancel = document.createElement('button');\n",
              "  inputElement.parentElement.appendChild(cancel);\n",
              "  cancel.textContent = 'Cancel upload';\n",
              "  const cancelPromise = new Promise((resolve) => {\n",
              "    cancel.onclick = () => {\n",
              "      resolve(null);\n",
              "    };\n",
              "  });\n",
              "\n",
              "  // Wait for the user to pick the files.\n",
              "  const files = yield {\n",
              "    promise: Promise.race([pickedPromise, cancelPromise]),\n",
              "    response: {\n",
              "      action: 'starting',\n",
              "    }\n",
              "  };\n",
              "\n",
              "  cancel.remove();\n",
              "\n",
              "  // Disable the input element since further picks are not allowed.\n",
              "  inputElement.disabled = true;\n",
              "\n",
              "  if (!files) {\n",
              "    return {\n",
              "      response: {\n",
              "        action: 'complete',\n",
              "      }\n",
              "    };\n",
              "  }\n",
              "\n",
              "  for (const file of files) {\n",
              "    const li = document.createElement('li');\n",
              "    li.append(span(file.name, {fontWeight: 'bold'}));\n",
              "    li.append(span(\n",
              "        `(${file.type || 'n/a'}) - ${file.size} bytes, ` +\n",
              "        `last modified: ${\n",
              "            file.lastModifiedDate ? file.lastModifiedDate.toLocaleDateString() :\n",
              "                                    'n/a'} - `));\n",
              "    const percent = span('0% done');\n",
              "    li.appendChild(percent);\n",
              "\n",
              "    outputElement.appendChild(li);\n",
              "\n",
              "    const fileDataPromise = new Promise((resolve) => {\n",
              "      const reader = new FileReader();\n",
              "      reader.onload = (e) => {\n",
              "        resolve(e.target.result);\n",
              "      };\n",
              "      reader.readAsArrayBuffer(file);\n",
              "    });\n",
              "    // Wait for the data to be ready.\n",
              "    let fileData = yield {\n",
              "      promise: fileDataPromise,\n",
              "      response: {\n",
              "        action: 'continue',\n",
              "      }\n",
              "    };\n",
              "\n",
              "    // Use a chunked sending to avoid message size limits. See b/62115660.\n",
              "    let position = 0;\n",
              "    do {\n",
              "      const length = Math.min(fileData.byteLength - position, MAX_PAYLOAD_SIZE);\n",
              "      const chunk = new Uint8Array(fileData, position, length);\n",
              "      position += length;\n",
              "\n",
              "      const base64 = btoa(String.fromCharCode.apply(null, chunk));\n",
              "      yield {\n",
              "        response: {\n",
              "          action: 'append',\n",
              "          file: file.name,\n",
              "          data: base64,\n",
              "        },\n",
              "      };\n",
              "\n",
              "      let percentDone = fileData.byteLength === 0 ?\n",
              "          100 :\n",
              "          Math.round((position / fileData.byteLength) * 100);\n",
              "      percent.textContent = `${percentDone}% done`;\n",
              "\n",
              "    } while (position < fileData.byteLength);\n",
              "  }\n",
              "\n",
              "  // All done.\n",
              "  yield {\n",
              "    response: {\n",
              "      action: 'complete',\n",
              "    }\n",
              "  };\n",
              "}\n",
              "\n",
              "scope.google = scope.google || {};\n",
              "scope.google.colab = scope.google.colab || {};\n",
              "scope.google.colab._files = {\n",
              "  _uploadFiles,\n",
              "  _uploadFilesContinue,\n",
              "};\n",
              "})(self);\n",
              "</script> "
            ]
          },
          "metadata": {}
        },
        {
          "output_type": "stream",
          "name": "stdout",
          "text": [
            "Saving Q.11 Practical Question.png to Q.11 Practical Question.png\n"
          ]
        }
      ]
    },
    {
      "cell_type": "code",
      "source": [
        "book_orders = [\n",
        "    (34587, \"Learning Python, Mark Lutz\", 4, 40.95),\n",
        "    (98762, \"Programming Python, Mark Lutz\", 5, 56.80),\n",
        "    (77226, \"Head First Python, Paul Barry\", 3, 32.95),\n",
        "    (88112, \"Einführung in Python3, Bernd Klein\", 3, 24.99),\n",
        "]\n",
        "\n",
        "def process_orders(orders):\n",
        "    processed_orders = []\n",
        "    for order in orders:\n",
        "        order_number, _, quantity, price_per_item = order\n",
        "        total_price = quantity * price_per_item\n",
        "        if total_price < 100:\n",
        "            total_price += 10\n",
        "        processed_orders.append((order_number, round(total_price, 2)))\n",
        "    return processed_orders\n",
        "\n",
        "result = process_orders(book_orders)\n",
        "\n",
        "print(result)\n"
      ],
      "metadata": {
        "colab": {
          "base_uri": "https://localhost:8080/"
        },
        "id": "tmIbjrm7rzrz",
        "outputId": "05b09522-5765-4c1a-af99-aa19667144ed"
      },
      "execution_count": null,
      "outputs": [
        {
          "output_type": "stream",
          "name": "stdout",
          "text": [
            "[(34587, 163.8), (98762, 284.0), (77226, 108.85), (88112, 84.97)]\n"
          ]
        }
      ]
    },
    {
      "cell_type": "code",
      "source": [],
      "metadata": {
        "id": "ZZgVIMymti2Z"
      },
      "execution_count": null,
      "outputs": []
    }
  ]
}